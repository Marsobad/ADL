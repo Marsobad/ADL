{
  "nbformat": 4,
  "nbformat_minor": 0,
  "metadata": {
    "kernelspec": {
      "display_name": "Python 3",
      "language": "python",
      "name": "python3"
    },
    "language_info": {
      "codemirror_mode": {
        "name": "ipython",
        "version": 3
      },
      "file_extension": ".py",
      "mimetype": "text/x-python",
      "name": "python",
      "nbconvert_exporter": "python",
      "pygments_lexer": "ipython3",
      "version": "3.7.6"
    },
    "colab": {
      "name": "TP4_active_learning.ipynb",
      "provenance": [],
      "include_colab_link": true
    },
    "widgets": {
      "application/vnd.jupyter.widget-state+json": {
        "ce5824c7f6e34f9b98870f292c2ca939": {
          "model_module": "@jupyter-widgets/controls",
          "model_name": "HBoxModel",
          "state": {
            "_view_name": "HBoxView",
            "_dom_classes": [],
            "_model_name": "HBoxModel",
            "_view_module": "@jupyter-widgets/controls",
            "_model_module_version": "1.5.0",
            "_view_count": null,
            "_view_module_version": "1.5.0",
            "box_style": "",
            "layout": "IPY_MODEL_467335232d8f43ea892862af958f8438",
            "_model_module": "@jupyter-widgets/controls",
            "children": [
              "IPY_MODEL_396f13ecd0084c0f95db2b53a92e8a8d",
              "IPY_MODEL_2cd86602f1eb481db8d2a3926be9b4da"
            ]
          }
        },
        "5d3b7a2f737e4b84accacb6dde058113": {
          "model_module": "@jupyter-widgets/controls",
          "model_name": "HBoxModel",
          "state": {
            "_view_name": "HBoxView",
            "_dom_classes": [],
            "_model_name": "HBoxModel",
            "_view_module": "@jupyter-widgets/controls",
            "_model_module_version": "1.5.0",
            "_view_count": null,
            "_view_module_version": "1.5.0",
            "box_style": "",
            "layout": "IPY_MODEL_5cea3cb9a6444586a3ac7e5be1e5f906",
            "_model_module": "@jupyter-widgets/controls",
            "children": [
              "IPY_MODEL_88416790af3847ffbc1d4ff5a781695c",
              "IPY_MODEL_3b86ce973e6a48f1a92372a48af8429a"
            ]
          }
        },
        "130734eb56d74e71a652cbbf4e509561": {
          "model_module": "@jupyter-widgets/controls",
          "model_name": "HBoxModel",
          "state": {
            "_view_name": "HBoxView",
            "_dom_classes": [],
            "_model_name": "HBoxModel",
            "_view_module": "@jupyter-widgets/controls",
            "_model_module_version": "1.5.0",
            "_view_count": null,
            "_view_module_version": "1.5.0",
            "box_style": "",
            "layout": "IPY_MODEL_43a465f1cafe46a58b7d162469cf5161",
            "_model_module": "@jupyter-widgets/controls",
            "children": [
              "IPY_MODEL_3c2e494b07b04c898e46ecb5b3a65d6f",
              "IPY_MODEL_7670193449fe44ff8cd8751154543568"
            ]
          }
        },
        "ef9a63bc12e04fa1b8be024e82be1b88": {
          "model_module": "@jupyter-widgets/controls",
          "model_name": "HBoxModel",
          "state": {
            "_view_name": "HBoxView",
            "_dom_classes": [],
            "_model_name": "HBoxModel",
            "_view_module": "@jupyter-widgets/controls",
            "_model_module_version": "1.5.0",
            "_view_count": null,
            "_view_module_version": "1.5.0",
            "box_style": "",
            "layout": "IPY_MODEL_3e8ebe0fef2f4b6fb832e0ec183b6a7f",
            "_model_module": "@jupyter-widgets/controls",
            "children": [
              "IPY_MODEL_3c6c765293ec42489b3434306ad2ff37",
              "IPY_MODEL_7cbd7da09cf74b508e0eff36c06b86f9"
            ]
          }
        }
      }
    }
  },
  "cells": [
    {
      "cell_type": "markdown",
      "metadata": {
        "id": "view-in-github",
        "colab_type": "text"
      },
      "source": [
        "<a href=\"https://colab.research.google.com/github/Marsobad/ADL/blob/master/TP4_active_learning.ipynb\" target=\"_parent\"><img src=\"https://colab.research.google.com/assets/colab-badge.svg\" alt=\"Open In Colab\"/></a>"
      ]
    },
    {
      "cell_type": "markdown",
      "metadata": {
        "id": "-ya9Z3YTbd6G",
        "colab_type": "text"
      },
      "source": [
        "# Active Learning Practical"
      ]
    },
    {
      "cell_type": "markdown",
      "metadata": {
        "id": "W7k9cdMFbd6K",
        "colab_type": "text"
      },
      "source": [
        "Active Learning is generally useful in a specific case of small data: when unlabelled data is plentiful, but labelling it is costly. Think for example that each example must be analysed by an expert for labelling it. Expert time is costly, so we would like to be able to train a successful classifier while labelling as few examples as possible.\n",
        "\n",
        "Active Learning is an approach to answer this problem. The general principle is the following: we first randomly ask the expert to label a small random subset of the training data, and train our classifier on it. Once this first step is done, we can analyse the behaviour of our trained model on the yet unlabelled data, to deduce which additional examples would be worth labelling to improve the quality of the model as quickly as possible. We then retrain the model on the new larger labelled dataset and iterate this process, labelling more and more examples, until we reach a satisfying performance. And hopefully reaching it while only labelling a small fraction of the whole available dataset.\n",
        "\n",
        "The main question in Active Learning is thus the following: How should we choose the next batch of examples to be labelled?\n",
        "\n",
        "There are different strategies for this, that you will compare in this practical."
      ]
    },
    {
      "cell_type": "markdown",
      "metadata": {
        "id": "uML2w4Eqbd6O",
        "colab_type": "text"
      },
      "source": [
        "### Example setup\n",
        "\n",
        "We will emulate an active learning situation using the MNIST dataset, starting by pretending we don't have the labels. The \"ask an expert to label the example\" step will thus be simply picking the label from the dataset.\n",
        "\n",
        "You'll have to provide a neural network architecture and the implementation of various active learning strategies, with the goal of comparing them. Keep in mind that the start of the training will be on very small datasets when designing your architectures."
      ]
    },
    {
      "cell_type": "code",
      "metadata": {
        "id": "Crnaan-Zbd6S",
        "colab_type": "code",
        "colab": {}
      },
      "source": [
        "import torch\n",
        "import torch.nn as nn\n",
        "import torch.nn.functional as F\n",
        "import torchvision\n",
        "import torchvision.transforms as transforms\n",
        "from torch.utils.data import DataLoader, random_split, TensorDataset\n",
        "from heapq import nsmallest\n",
        "import numpy as np\n",
        "import random\n",
        "from scipy.stats import entropy\n",
        "import matplotlib.pyplot as plt\n",
        "\n",
        "%matplotlib inline"
      ],
      "execution_count": 0,
      "outputs": []
    },
    {
      "cell_type": "code",
      "metadata": {
        "id": "FqRK5YLObd6b",
        "colab_type": "code",
        "colab": {
          "base_uri": "https://localhost:8080/",
          "height": 255,
          "referenced_widgets": [
            "ce5824c7f6e34f9b98870f292c2ca939",
            "5d3b7a2f737e4b84accacb6dde058113",
            "130734eb56d74e71a652cbbf4e509561",
            "ef9a63bc12e04fa1b8be024e82be1b88"
          ]
        },
        "outputId": "bba4d8c6-ea60-4c79-95e6-9b4189c8a551"
      },
      "source": [
        "# Loading MNIST dataset from torchvision.dataset\n",
        "original_mnist = torchvision.datasets.MNIST(root='data/',\n",
        "                                           train=True,\n",
        "                                           transform=transforms.ToTensor(),\n",
        "                                           download=True)\n"
      ],
      "execution_count": 2,
      "outputs": [
        {
          "output_type": "stream",
          "text": [
            "Downloading http://yann.lecun.com/exdb/mnist/train-images-idx3-ubyte.gz to data/MNIST/raw/train-images-idx3-ubyte.gz\n"
          ],
          "name": "stdout"
        },
        {
          "output_type": "display_data",
          "data": {
            "application/vnd.jupyter.widget-view+json": {
              "model_id": "ce5824c7f6e34f9b98870f292c2ca939",
              "version_minor": 0,
              "version_major": 2
            },
            "text/plain": [
              "HBox(children=(IntProgress(value=1, bar_style='info', max=1), HTML(value='')))"
            ]
          },
          "metadata": {
            "tags": []
          }
        },
        {
          "output_type": "stream",
          "text": [
            "\n",
            "Extracting data/MNIST/raw/train-images-idx3-ubyte.gz to data/MNIST/raw\n",
            "Downloading http://yann.lecun.com/exdb/mnist/train-labels-idx1-ubyte.gz to data/MNIST/raw/train-labels-idx1-ubyte.gz\n"
          ],
          "name": "stdout"
        },
        {
          "output_type": "display_data",
          "data": {
            "application/vnd.jupyter.widget-view+json": {
              "model_id": "5d3b7a2f737e4b84accacb6dde058113",
              "version_minor": 0,
              "version_major": 2
            },
            "text/plain": [
              "HBox(children=(IntProgress(value=1, bar_style='info', max=1), HTML(value='')))"
            ]
          },
          "metadata": {
            "tags": []
          }
        },
        {
          "output_type": "stream",
          "text": [
            "\n",
            "Extracting data/MNIST/raw/train-labels-idx1-ubyte.gz to data/MNIST/raw\n",
            "Downloading http://yann.lecun.com/exdb/mnist/t10k-images-idx3-ubyte.gz to data/MNIST/raw/t10k-images-idx3-ubyte.gz\n"
          ],
          "name": "stdout"
        },
        {
          "output_type": "display_data",
          "data": {
            "application/vnd.jupyter.widget-view+json": {
              "model_id": "130734eb56d74e71a652cbbf4e509561",
              "version_minor": 0,
              "version_major": 2
            },
            "text/plain": [
              "HBox(children=(IntProgress(value=1, bar_style='info', max=1), HTML(value='')))"
            ]
          },
          "metadata": {
            "tags": []
          }
        },
        {
          "output_type": "stream",
          "text": [
            "\n",
            "Extracting data/MNIST/raw/t10k-images-idx3-ubyte.gz to data/MNIST/raw\n",
            "Downloading http://yann.lecun.com/exdb/mnist/t10k-labels-idx1-ubyte.gz to data/MNIST/raw/t10k-labels-idx1-ubyte.gz\n"
          ],
          "name": "stdout"
        },
        {
          "output_type": "display_data",
          "data": {
            "application/vnd.jupyter.widget-view+json": {
              "model_id": "ef9a63bc12e04fa1b8be024e82be1b88",
              "version_minor": 0,
              "version_major": 2
            },
            "text/plain": [
              "HBox(children=(IntProgress(value=1, bar_style='info', max=1), HTML(value='')))"
            ]
          },
          "metadata": {
            "tags": []
          }
        },
        {
          "output_type": "stream",
          "text": [
            "\n",
            "Extracting data/MNIST/raw/t10k-labels-idx1-ubyte.gz to data/MNIST/raw\n",
            "Processing...\n",
            "Done!\n"
          ],
          "name": "stdout"
        }
      ]
    },
    {
      "cell_type": "code",
      "metadata": {
        "id": "MnRYTbupbd6h",
        "colab_type": "code",
        "colab": {}
      },
      "source": [
        "# This function creates an unlabelled dataset based on the MNIST images\n",
        "#\n",
        "# All examples that are not yet labelled have a label set to -1\n",
        "def unlabeled_dataset():\n",
        "    return TensorDataset(\n",
        "        original_mnist.data[5000:].float() * 2.0 / 255.0 -1.0,\n",
        "        torch.zeros_like(original_mnist.targets[5000:])-1\n",
        "    )\n",
        "\n",
        "# This function labels the requested examples on an unlabelled dataset\n",
        "def call_expert(dataset, indices):\n",
        "    for i in indices:\n",
        "        dataset.tensors[1][i] = original_mnist.targets[5000+i]\n",
        "\n",
        "# Keep 5000 examples as a validation\n",
        "mnist_validation = TensorDataset(\n",
        "    original_mnist.data[:5000].float() * 2.0 / 255.0 -1.0,\n",
        "    original_mnist.targets[:5000]\n",
        ")"
      ],
      "execution_count": 0,
      "outputs": []
    },
    {
      "cell_type": "code",
      "metadata": {
        "id": "_6JQvMD93gu_",
        "colab_type": "code",
        "colab": {
          "base_uri": "https://localhost:8080/",
          "height": 34
        },
        "outputId": "8e5321d9-daa0-4696-d0d1-9b697fd8146f"
      },
      "source": [
        "60000 - 5000"
      ],
      "execution_count": 164,
      "outputs": [
        {
          "output_type": "execute_result",
          "data": {
            "text/plain": [
              "55000"
            ]
          },
          "metadata": {
            "tags": []
          },
          "execution_count": 164
        }
      ]
    },
    {
      "cell_type": "code",
      "metadata": {
        "id": "GIuneCfi3TFl",
        "colab_type": "code",
        "colab": {
          "base_uri": "https://localhost:8080/",
          "height": 34
        },
        "outputId": "e46ef605-6010-4d59-b9c7-7ac5fd58d8a1"
      },
      "source": [
        "unlabeled_dataset()"
      ],
      "execution_count": 160,
      "outputs": [
        {
          "output_type": "execute_result",
          "data": {
            "text/plain": [
              "<torch.utils.data.dataset.TensorDataset at 0x7f7a992730b8>"
            ]
          },
          "metadata": {
            "tags": []
          },
          "execution_count": 160
        }
      ]
    },
    {
      "cell_type": "markdown",
      "metadata": {
        "id": "LQQCaSVPbd6m",
        "colab_type": "text"
      },
      "source": [
        "You can here define your model that will be used for the Active learning process:"
      ]
    },
    {
      "cell_type": "code",
      "metadata": {
        "id": "TBHuSsm3bd6o",
        "colab_type": "code",
        "colab": {}
      },
      "source": [
        "class Model(nn.Module):\n",
        "  def __init__(self,):\n",
        "    super(Model, self).__init__()\n",
        "    self.conv1 = nn.Conv2d(1,32, 5,1,2)\n",
        "    self.drop = nn.Dropout2d()\n",
        "    self.l1 = nn.Linear(32*14*14,10)\n",
        "\n",
        "  def forward(self, inputs):\n",
        "    outputs = F.relu(self.conv1(inputs))\n",
        "    outputs = F.max_pool2d(outputs, 2,2)\n",
        "    outputs = outputs.view(outputs.size(0), -1)\n",
        "    outputs = self.l1(outputs)\n",
        "    return outputs"
      ],
      "execution_count": 0,
      "outputs": []
    },
    {
      "cell_type": "markdown",
      "metadata": {
        "id": "TTMATb8nbd6u",
        "colab_type": "text"
      },
      "source": [
        "And here are the learning hyper-parameters, as for the previous practicals you may need to tinker with them:"
      ]
    },
    {
      "cell_type": "code",
      "metadata": {
        "id": "OSSw12Scbd6w",
        "colab_type": "code",
        "colab": {}
      },
      "source": [
        "# number of times the expert will be called to label a batch of examples\n",
        "num_active_runs = 20\n",
        "\n",
        "# number of training iterations between each expert call\n",
        "# the number of epochs is thus num_iter * batch_size / len(dataset)\n",
        "num_iter = 100\n",
        "batch_size = 50\n",
        "\n",
        "criterion = nn.CrossEntropyLoss()\n",
        "\n",
        "learning_rate = 0.1"
      ],
      "execution_count": 0,
      "outputs": []
    },
    {
      "cell_type": "markdown",
      "metadata": {
        "id": "MEg1Rqtxbd61",
        "colab_type": "text"
      },
      "source": [
        "Now is the place where you define the strategy to choose the next examples to label. A strategy is a function taking as input your model and the dataset, and returning a list of examples to label.\n",
        "\n",
        "You can create several functions to test different strategies."
      ]
    },
    {
      "cell_type": "code",
      "metadata": {
        "id": "wDotOntSbd63",
        "colab_type": "code",
        "colab": {}
      },
      "source": [
        "def random_strategy(model, dataset):\n",
        "    # label 100 new examples at random\n",
        "    N = len(dataset)\n",
        "    return torch.randint(0, N, (100,))\n",
        "\n",
        "def uncertainty_strategy(model,dataset):\n",
        "  probabilities = torch.zeros(55000)\n",
        "  index = 0 \n",
        "  with torch.no_grad():\n",
        "    dataloader = DataLoader(dataset)\n",
        "    for images, labels in dataloader:\n",
        "      images = images.unsqueeze(1)\n",
        "      outputs = model(images)\n",
        "      probability, _ = torch.max(outputs.data, 1) \n",
        "      probabilities[index] = probability\n",
        "      index +=1\n",
        "  #we keep only the points whose probability belongs to the 100 smallest probabilities\n",
        "  return probabilities.argsort()[:100] \n",
        "\n",
        "def margin_strategy(model,dataset):\n",
        "  margins = torch.zeros(55000)\n",
        "  index = 0 \n",
        "  with torch.no_grad():\n",
        "    dataloader = DataLoader(dataset)\n",
        "    for images, labels in dataloader:\n",
        "      images = images.unsqueeze(1)\n",
        "      outputs = model(images)\n",
        "      top2_probabilities,_ = torch.topk(outputs.data,2)\n",
        "      margins[index] = top2_probabilities[0][0] - top2_probabilities[0][1]\n",
        "      index +=1\n",
        "  return margins.argsort()[:100]"
      ],
      "execution_count": 0,
      "outputs": []
    },
    {
      "cell_type": "code",
      "metadata": {
        "id": "v6qEIX3nBDzQ",
        "colab_type": "code",
        "colab": {}
      },
      "source": [
        "a = margin_strategy(Model(),unlabeled_dataset())"
      ],
      "execution_count": 0,
      "outputs": []
    },
    {
      "cell_type": "code",
      "metadata": {
        "id": "Yoc3t4wHBue0",
        "colab_type": "code",
        "colab": {}
      },
      "source": [
        "b = uncertainty_strategy(Model(),unlabeled_dataset())"
      ],
      "execution_count": 0,
      "outputs": []
    },
    {
      "cell_type": "markdown",
      "metadata": {
        "id": "cqpuV6uubd67",
        "colab_type": "text"
      },
      "source": [
        "This function is the main training loop, the only part you should need to modify is the initialization of the optimizer (noted by the `# OPTIMIZER` comment).\n",
        "\n",
        "Don't forget to reload this cell whenever you change the hyper-parameters."
      ]
    },
    {
      "cell_type": "code",
      "metadata": {
        "id": "c1LLQIoxbd68",
        "colab_type": "code",
        "colab": {}
      },
      "source": [
        "# returns a tensor of values:\n",
        "# - output[:,0] are the number of labeled examples\n",
        "# - output[:,1] are the associated accuracies\n",
        "# - output[:,2] are the associated losses\n",
        "def active_training(strategy, dataset=None, initial_labeling=20):\n",
        "    if dataset is None:\n",
        "        dataset = unlabeled_dataset()\n",
        "        call_expert(dataset, torch.randint(0, len(dataset), (initial_labeling,)))\n",
        "    \n",
        "    def train_model(model, optimizer, loader, epochs):\n",
        "        for _ in range(epochs):\n",
        "            for (data, targets) in loader:\n",
        "                model.zero_grad()\n",
        "                #prediction = model(data.view((50,1,28,28)))\n",
        "                prediction = model(data.unsqueeze(1))\n",
        "                loss = criterion(prediction, targets)\n",
        "                loss.backward()\n",
        "                optimizer.step()\n",
        "    \n",
        "    def validation_perf(model, dataset):\n",
        "        loader = DataLoader(dataset, batch_size=batch_size, shuffle=False)\n",
        "        total_accuracy = 0.0\n",
        "        total_loss = 0.0\n",
        "        with torch.no_grad():\n",
        "            for (data, targets) in loader:\n",
        "              prediction = model(data.view((50,1,28,28)))\n",
        "              total_loss += criterion(prediction, targets).item() * data.size(0)\n",
        "              _, number_predicted = torch.max(prediction.data, 1)\n",
        "              total_accuracy += (number_predicted == targets).sum()\n",
        "        return (total_accuracy / len(dataset), total_loss / len(dataset))\n",
        "    \n",
        "    performances = torch.zeros(num_active_runs+1, 3)\n",
        "    \n",
        "    for i in range(num_active_runs+1):\n",
        "        # filter the dataset to only keep labelled examples\n",
        "        labelled_idx = dataset.tensors[1] >= 0\n",
        "        filtered_dataset = TensorDataset(*list(t[labelled_idx] for t in dataset.tensors))\n",
        "        loader = DataLoader(filtered_dataset, batch_size=batch_size, shuffle=True)\n",
        "        # create a new model to train on this dataset\n",
        "        model = Model()\n",
        "        # OPTIMIZER\n",
        "        optimizer = torch.optim.Adam(model.parameters(), lr=learning_rate)\n",
        "        train_model(model, optimizer, loader, num_iter // len(loader))\n",
        "        (valid_acc, valid_loss) = validation_perf(model, mnist_validation)\n",
        "        \n",
        "        performances[i, 0] = len(filtered_dataset)\n",
        "        performances[i, 1] = valid_acc\n",
        "        performances[i, 2] = valid_loss\n",
        "        print(\"With {} examples, valid perf is: {} -- {}%\".format(len(filtered_dataset), valid_loss, valid_acc*100))\n",
        "        \n",
        "        if i < num_active_runs:\n",
        "            to_label = strategy(model, dataset)\n",
        "            call_expert(dataset, to_label)\n",
        "    \n",
        "    return performances"
      ],
      "execution_count": 0,
      "outputs": []
    },
    {
      "cell_type": "markdown",
      "metadata": {
        "id": "WJmK6mSxbd7A",
        "colab_type": "text"
      },
      "source": [
        "The following cells contain code that you can use to compare your different strategies. Fill the `strategies` list with the name of the functions implementing your strategies, and run the cell to compare them."
      ]
    },
    {
      "cell_type": "code",
      "metadata": {
        "id": "LUzy_L8tbd7B",
        "colab_type": "code",
        "colab": {
          "base_uri": "https://localhost:8080/",
          "height": 545
        },
        "outputId": "d29abee1-d29d-41af-bdfe-e55ee13b4f2d"
      },
      "source": [
        "# a list of strategies you want to compare\n",
        "strategies = [margin_strategy]\n",
        "#strategies = [random_strategy,uncertainty_strategy]\n",
        "# number of examples to label randomly at the start\n",
        "initial_labeling = 100\n",
        "\n",
        "performances = []\n",
        "for strat in strategies:\n",
        "    print(\"Training with strategy: {}\".format(strat.__name__))\n",
        "    perf = active_training(strat, initial_labeling=initial_labeling)\n",
        "    performances.append((strat.__name__, perf))\n",
        "print(\"done\")"
      ],
      "execution_count": 259,
      "outputs": [
        {
          "output_type": "stream",
          "text": [
            "Training with strategy: margin_strategy\n",
            "With 100 examples, valid perf is: 54.01508202552795 -- 67.65999603271484%\n",
            "With 200 examples, valid perf is: 12.717957738637924 -- 82.9000015258789%\n",
            "With 300 examples, valid perf is: 13.020522253513336 -- 83.4800033569336%\n",
            "With 400 examples, valid perf is: 8.114826421581148 -- 89.16000366210938%\n",
            "With 500 examples, valid perf is: 4.025455499440431 -- 89.06000518798828%\n",
            "With 600 examples, valid perf is: 5.05592996314168 -- 89.76000213623047%\n",
            "With 700 examples, valid perf is: 3.609297901391983 -- 89.02000427246094%\n",
            "With 797 examples, valid perf is: 3.66089690776309 -- 89.18000030517578%\n",
            "With 895 examples, valid perf is: 2.6780355071648954 -- 91.5999984741211%\n"
          ],
          "name": "stdout"
        },
        {
          "output_type": "error",
          "ename": "KeyboardInterrupt",
          "evalue": "ignored",
          "traceback": [
            "\u001b[0;31m---------------------------------------------------------------------------\u001b[0m",
            "\u001b[0;31mKeyboardInterrupt\u001b[0m                         Traceback (most recent call last)",
            "\u001b[0;32m<ipython-input-259-981babd9ef62>\u001b[0m in \u001b[0;36m<module>\u001b[0;34m()\u001b[0m\n\u001b[1;32m      7\u001b[0m \u001b[0;32mfor\u001b[0m \u001b[0mstrat\u001b[0m \u001b[0;32min\u001b[0m \u001b[0mstrategies\u001b[0m\u001b[0;34m:\u001b[0m\u001b[0;34m\u001b[0m\u001b[0;34m\u001b[0m\u001b[0m\n\u001b[1;32m      8\u001b[0m     \u001b[0mprint\u001b[0m\u001b[0;34m(\u001b[0m\u001b[0;34m\"Training with strategy: {}\"\u001b[0m\u001b[0;34m.\u001b[0m\u001b[0mformat\u001b[0m\u001b[0;34m(\u001b[0m\u001b[0mstrat\u001b[0m\u001b[0;34m.\u001b[0m\u001b[0m__name__\u001b[0m\u001b[0;34m)\u001b[0m\u001b[0;34m)\u001b[0m\u001b[0;34m\u001b[0m\u001b[0;34m\u001b[0m\u001b[0m\n\u001b[0;32m----> 9\u001b[0;31m     \u001b[0mperf\u001b[0m \u001b[0;34m=\u001b[0m \u001b[0mactive_training\u001b[0m\u001b[0;34m(\u001b[0m\u001b[0mstrat\u001b[0m\u001b[0;34m,\u001b[0m \u001b[0minitial_labeling\u001b[0m\u001b[0;34m=\u001b[0m\u001b[0minitial_labeling\u001b[0m\u001b[0;34m)\u001b[0m\u001b[0;34m\u001b[0m\u001b[0;34m\u001b[0m\u001b[0m\n\u001b[0m\u001b[1;32m     10\u001b[0m     \u001b[0mperformances\u001b[0m\u001b[0;34m.\u001b[0m\u001b[0mappend\u001b[0m\u001b[0;34m(\u001b[0m\u001b[0;34m(\u001b[0m\u001b[0mstrat\u001b[0m\u001b[0;34m.\u001b[0m\u001b[0m__name__\u001b[0m\u001b[0;34m,\u001b[0m \u001b[0mperf\u001b[0m\u001b[0;34m)\u001b[0m\u001b[0;34m)\u001b[0m\u001b[0;34m\u001b[0m\u001b[0;34m\u001b[0m\u001b[0m\n\u001b[1;32m     11\u001b[0m \u001b[0mprint\u001b[0m\u001b[0;34m(\u001b[0m\u001b[0;34m\"done\"\u001b[0m\u001b[0;34m)\u001b[0m\u001b[0;34m\u001b[0m\u001b[0;34m\u001b[0m\u001b[0m\n",
            "\u001b[0;32m<ipython-input-81-0fef5f3f0164>\u001b[0m in \u001b[0;36mactive_training\u001b[0;34m(strategy, dataset, initial_labeling)\u001b[0m\n\u001b[1;32m     46\u001b[0m \u001b[0;34m\u001b[0m\u001b[0m\n\u001b[1;32m     47\u001b[0m         \u001b[0;32mif\u001b[0m \u001b[0mi\u001b[0m \u001b[0;34m<\u001b[0m \u001b[0mnum_active_runs\u001b[0m\u001b[0;34m:\u001b[0m\u001b[0;34m\u001b[0m\u001b[0;34m\u001b[0m\u001b[0m\n\u001b[0;32m---> 48\u001b[0;31m             \u001b[0mto_label\u001b[0m \u001b[0;34m=\u001b[0m \u001b[0mstrategy\u001b[0m\u001b[0;34m(\u001b[0m\u001b[0mmodel\u001b[0m\u001b[0;34m,\u001b[0m \u001b[0mdataset\u001b[0m\u001b[0;34m)\u001b[0m\u001b[0;34m\u001b[0m\u001b[0;34m\u001b[0m\u001b[0m\n\u001b[0m\u001b[1;32m     49\u001b[0m             \u001b[0mcall_expert\u001b[0m\u001b[0;34m(\u001b[0m\u001b[0mdataset\u001b[0m\u001b[0;34m,\u001b[0m \u001b[0mto_label\u001b[0m\u001b[0;34m)\u001b[0m\u001b[0;34m\u001b[0m\u001b[0;34m\u001b[0m\u001b[0m\n\u001b[1;32m     50\u001b[0m \u001b[0;34m\u001b[0m\u001b[0m\n",
            "\u001b[0;32m<ipython-input-251-b1b2933f7142>\u001b[0m in \u001b[0;36mmargin_strategy\u001b[0;34m(model, dataset)\u001b[0m\n\u001b[1;32m     25\u001b[0m     \u001b[0;32mfor\u001b[0m \u001b[0mimages\u001b[0m\u001b[0;34m,\u001b[0m \u001b[0mlabels\u001b[0m \u001b[0;32min\u001b[0m \u001b[0mdataloader\u001b[0m\u001b[0;34m:\u001b[0m\u001b[0;34m\u001b[0m\u001b[0;34m\u001b[0m\u001b[0m\n\u001b[1;32m     26\u001b[0m       \u001b[0mimages\u001b[0m \u001b[0;34m=\u001b[0m \u001b[0mimages\u001b[0m\u001b[0;34m.\u001b[0m\u001b[0munsqueeze\u001b[0m\u001b[0;34m(\u001b[0m\u001b[0;36m1\u001b[0m\u001b[0;34m)\u001b[0m\u001b[0;34m\u001b[0m\u001b[0;34m\u001b[0m\u001b[0m\n\u001b[0;32m---> 27\u001b[0;31m       \u001b[0moutputs\u001b[0m \u001b[0;34m=\u001b[0m \u001b[0mmodel\u001b[0m\u001b[0;34m(\u001b[0m\u001b[0mimages\u001b[0m\u001b[0;34m)\u001b[0m\u001b[0;34m\u001b[0m\u001b[0;34m\u001b[0m\u001b[0m\n\u001b[0m\u001b[1;32m     28\u001b[0m       \u001b[0mtop2_probabilities\u001b[0m\u001b[0;34m,\u001b[0m\u001b[0m_\u001b[0m \u001b[0;34m=\u001b[0m \u001b[0mtorch\u001b[0m\u001b[0;34m.\u001b[0m\u001b[0mtopk\u001b[0m\u001b[0;34m(\u001b[0m\u001b[0moutputs\u001b[0m\u001b[0;34m.\u001b[0m\u001b[0mdata\u001b[0m\u001b[0;34m,\u001b[0m\u001b[0;36m2\u001b[0m\u001b[0;34m)\u001b[0m\u001b[0;34m\u001b[0m\u001b[0;34m\u001b[0m\u001b[0m\n\u001b[1;32m     29\u001b[0m       \u001b[0mmargins\u001b[0m\u001b[0;34m[\u001b[0m\u001b[0mindex\u001b[0m\u001b[0;34m]\u001b[0m \u001b[0;34m=\u001b[0m \u001b[0mtop2_probabilities\u001b[0m\u001b[0;34m[\u001b[0m\u001b[0;36m0\u001b[0m\u001b[0;34m]\u001b[0m\u001b[0;34m[\u001b[0m\u001b[0;36m0\u001b[0m\u001b[0;34m]\u001b[0m \u001b[0;34m-\u001b[0m \u001b[0mtop2_probabilities\u001b[0m\u001b[0;34m[\u001b[0m\u001b[0;36m0\u001b[0m\u001b[0;34m]\u001b[0m\u001b[0;34m[\u001b[0m\u001b[0;36m1\u001b[0m\u001b[0;34m]\u001b[0m\u001b[0;34m\u001b[0m\u001b[0;34m\u001b[0m\u001b[0m\n",
            "\u001b[0;32m/usr/local/lib/python3.6/dist-packages/torch/nn/modules/module.py\u001b[0m in \u001b[0;36m__call__\u001b[0;34m(self, *input, **kwargs)\u001b[0m\n\u001b[1;32m    530\u001b[0m             \u001b[0mresult\u001b[0m \u001b[0;34m=\u001b[0m \u001b[0mself\u001b[0m\u001b[0;34m.\u001b[0m\u001b[0m_slow_forward\u001b[0m\u001b[0;34m(\u001b[0m\u001b[0;34m*\u001b[0m\u001b[0minput\u001b[0m\u001b[0;34m,\u001b[0m \u001b[0;34m**\u001b[0m\u001b[0mkwargs\u001b[0m\u001b[0;34m)\u001b[0m\u001b[0;34m\u001b[0m\u001b[0;34m\u001b[0m\u001b[0m\n\u001b[1;32m    531\u001b[0m         \u001b[0;32melse\u001b[0m\u001b[0;34m:\u001b[0m\u001b[0;34m\u001b[0m\u001b[0;34m\u001b[0m\u001b[0m\n\u001b[0;32m--> 532\u001b[0;31m             \u001b[0mresult\u001b[0m \u001b[0;34m=\u001b[0m \u001b[0mself\u001b[0m\u001b[0;34m.\u001b[0m\u001b[0mforward\u001b[0m\u001b[0;34m(\u001b[0m\u001b[0;34m*\u001b[0m\u001b[0minput\u001b[0m\u001b[0;34m,\u001b[0m \u001b[0;34m**\u001b[0m\u001b[0mkwargs\u001b[0m\u001b[0;34m)\u001b[0m\u001b[0;34m\u001b[0m\u001b[0;34m\u001b[0m\u001b[0m\n\u001b[0m\u001b[1;32m    533\u001b[0m         \u001b[0;32mfor\u001b[0m \u001b[0mhook\u001b[0m \u001b[0;32min\u001b[0m \u001b[0mself\u001b[0m\u001b[0;34m.\u001b[0m\u001b[0m_forward_hooks\u001b[0m\u001b[0;34m.\u001b[0m\u001b[0mvalues\u001b[0m\u001b[0;34m(\u001b[0m\u001b[0;34m)\u001b[0m\u001b[0;34m:\u001b[0m\u001b[0;34m\u001b[0m\u001b[0;34m\u001b[0m\u001b[0m\n\u001b[1;32m    534\u001b[0m             \u001b[0mhook_result\u001b[0m \u001b[0;34m=\u001b[0m \u001b[0mhook\u001b[0m\u001b[0;34m(\u001b[0m\u001b[0mself\u001b[0m\u001b[0;34m,\u001b[0m \u001b[0minput\u001b[0m\u001b[0;34m,\u001b[0m \u001b[0mresult\u001b[0m\u001b[0;34m)\u001b[0m\u001b[0;34m\u001b[0m\u001b[0;34m\u001b[0m\u001b[0m\n",
            "\u001b[0;32m<ipython-input-74-b7986949b152>\u001b[0m in \u001b[0;36mforward\u001b[0;34m(self, inputs)\u001b[0m\n\u001b[1;32m      8\u001b[0m \u001b[0;34m\u001b[0m\u001b[0m\n\u001b[1;32m      9\u001b[0m   \u001b[0;32mdef\u001b[0m \u001b[0mforward\u001b[0m\u001b[0;34m(\u001b[0m\u001b[0mself\u001b[0m\u001b[0;34m,\u001b[0m \u001b[0minputs\u001b[0m\u001b[0;34m)\u001b[0m\u001b[0;34m:\u001b[0m\u001b[0;34m\u001b[0m\u001b[0;34m\u001b[0m\u001b[0m\n\u001b[0;32m---> 10\u001b[0;31m     \u001b[0moutputs\u001b[0m \u001b[0;34m=\u001b[0m \u001b[0mF\u001b[0m\u001b[0;34m.\u001b[0m\u001b[0mrelu\u001b[0m\u001b[0;34m(\u001b[0m\u001b[0mself\u001b[0m\u001b[0;34m.\u001b[0m\u001b[0mconv1\u001b[0m\u001b[0;34m(\u001b[0m\u001b[0minputs\u001b[0m\u001b[0;34m)\u001b[0m\u001b[0;34m)\u001b[0m\u001b[0;34m\u001b[0m\u001b[0;34m\u001b[0m\u001b[0m\n\u001b[0m\u001b[1;32m     11\u001b[0m     \u001b[0moutputs\u001b[0m \u001b[0;34m=\u001b[0m \u001b[0mF\u001b[0m\u001b[0;34m.\u001b[0m\u001b[0mmax_pool2d\u001b[0m\u001b[0;34m(\u001b[0m\u001b[0moutputs\u001b[0m\u001b[0;34m,\u001b[0m \u001b[0;36m2\u001b[0m\u001b[0;34m,\u001b[0m\u001b[0;36m2\u001b[0m\u001b[0;34m)\u001b[0m\u001b[0;34m\u001b[0m\u001b[0;34m\u001b[0m\u001b[0m\n\u001b[1;32m     12\u001b[0m     \u001b[0;31m#outputs = F.relu(self.conv2(inputs))\u001b[0m\u001b[0;34m\u001b[0m\u001b[0;34m\u001b[0m\u001b[0;34m\u001b[0m\u001b[0m\n",
            "\u001b[0;32m/usr/local/lib/python3.6/dist-packages/torch/nn/modules/module.py\u001b[0m in \u001b[0;36m__call__\u001b[0;34m(self, *input, **kwargs)\u001b[0m\n\u001b[1;32m    530\u001b[0m             \u001b[0mresult\u001b[0m \u001b[0;34m=\u001b[0m \u001b[0mself\u001b[0m\u001b[0;34m.\u001b[0m\u001b[0m_slow_forward\u001b[0m\u001b[0;34m(\u001b[0m\u001b[0;34m*\u001b[0m\u001b[0minput\u001b[0m\u001b[0;34m,\u001b[0m \u001b[0;34m**\u001b[0m\u001b[0mkwargs\u001b[0m\u001b[0;34m)\u001b[0m\u001b[0;34m\u001b[0m\u001b[0;34m\u001b[0m\u001b[0m\n\u001b[1;32m    531\u001b[0m         \u001b[0;32melse\u001b[0m\u001b[0;34m:\u001b[0m\u001b[0;34m\u001b[0m\u001b[0;34m\u001b[0m\u001b[0m\n\u001b[0;32m--> 532\u001b[0;31m             \u001b[0mresult\u001b[0m \u001b[0;34m=\u001b[0m \u001b[0mself\u001b[0m\u001b[0;34m.\u001b[0m\u001b[0mforward\u001b[0m\u001b[0;34m(\u001b[0m\u001b[0;34m*\u001b[0m\u001b[0minput\u001b[0m\u001b[0;34m,\u001b[0m \u001b[0;34m**\u001b[0m\u001b[0mkwargs\u001b[0m\u001b[0;34m)\u001b[0m\u001b[0;34m\u001b[0m\u001b[0;34m\u001b[0m\u001b[0m\n\u001b[0m\u001b[1;32m    533\u001b[0m         \u001b[0;32mfor\u001b[0m \u001b[0mhook\u001b[0m \u001b[0;32min\u001b[0m \u001b[0mself\u001b[0m\u001b[0;34m.\u001b[0m\u001b[0m_forward_hooks\u001b[0m\u001b[0;34m.\u001b[0m\u001b[0mvalues\u001b[0m\u001b[0;34m(\u001b[0m\u001b[0;34m)\u001b[0m\u001b[0;34m:\u001b[0m\u001b[0;34m\u001b[0m\u001b[0;34m\u001b[0m\u001b[0m\n\u001b[1;32m    534\u001b[0m             \u001b[0mhook_result\u001b[0m \u001b[0;34m=\u001b[0m \u001b[0mhook\u001b[0m\u001b[0;34m(\u001b[0m\u001b[0mself\u001b[0m\u001b[0;34m,\u001b[0m \u001b[0minput\u001b[0m\u001b[0;34m,\u001b[0m \u001b[0mresult\u001b[0m\u001b[0;34m)\u001b[0m\u001b[0;34m\u001b[0m\u001b[0;34m\u001b[0m\u001b[0m\n",
            "\u001b[0;32m/usr/local/lib/python3.6/dist-packages/torch/nn/modules/conv.py\u001b[0m in \u001b[0;36mforward\u001b[0;34m(self, input)\u001b[0m\n\u001b[1;32m    343\u001b[0m \u001b[0;34m\u001b[0m\u001b[0m\n\u001b[1;32m    344\u001b[0m     \u001b[0;32mdef\u001b[0m \u001b[0mforward\u001b[0m\u001b[0;34m(\u001b[0m\u001b[0mself\u001b[0m\u001b[0;34m,\u001b[0m \u001b[0minput\u001b[0m\u001b[0;34m)\u001b[0m\u001b[0;34m:\u001b[0m\u001b[0;34m\u001b[0m\u001b[0;34m\u001b[0m\u001b[0m\n\u001b[0;32m--> 345\u001b[0;31m         \u001b[0;32mreturn\u001b[0m \u001b[0mself\u001b[0m\u001b[0;34m.\u001b[0m\u001b[0mconv2d_forward\u001b[0m\u001b[0;34m(\u001b[0m\u001b[0minput\u001b[0m\u001b[0;34m,\u001b[0m \u001b[0mself\u001b[0m\u001b[0;34m.\u001b[0m\u001b[0mweight\u001b[0m\u001b[0;34m)\u001b[0m\u001b[0;34m\u001b[0m\u001b[0;34m\u001b[0m\u001b[0m\n\u001b[0m\u001b[1;32m    346\u001b[0m \u001b[0;34m\u001b[0m\u001b[0m\n\u001b[1;32m    347\u001b[0m \u001b[0;32mclass\u001b[0m \u001b[0mConv3d\u001b[0m\u001b[0;34m(\u001b[0m\u001b[0m_ConvNd\u001b[0m\u001b[0;34m)\u001b[0m\u001b[0;34m:\u001b[0m\u001b[0;34m\u001b[0m\u001b[0;34m\u001b[0m\u001b[0m\n",
            "\u001b[0;32m/usr/local/lib/python3.6/dist-packages/torch/nn/modules/conv.py\u001b[0m in \u001b[0;36mconv2d_forward\u001b[0;34m(self, input, weight)\u001b[0m\n\u001b[1;32m    340\u001b[0m                             _pair(0), self.dilation, self.groups)\n\u001b[1;32m    341\u001b[0m         return F.conv2d(input, weight, self.bias, self.stride,\n\u001b[0;32m--> 342\u001b[0;31m                         self.padding, self.dilation, self.groups)\n\u001b[0m\u001b[1;32m    343\u001b[0m \u001b[0;34m\u001b[0m\u001b[0m\n\u001b[1;32m    344\u001b[0m     \u001b[0;32mdef\u001b[0m \u001b[0mforward\u001b[0m\u001b[0;34m(\u001b[0m\u001b[0mself\u001b[0m\u001b[0;34m,\u001b[0m \u001b[0minput\u001b[0m\u001b[0;34m)\u001b[0m\u001b[0;34m:\u001b[0m\u001b[0;34m\u001b[0m\u001b[0;34m\u001b[0m\u001b[0m\n",
            "\u001b[0;31mKeyboardInterrupt\u001b[0m: "
          ]
        }
      ]
    },
    {
      "cell_type": "code",
      "metadata": {
        "id": "I6CMhxnibd7F",
        "colab_type": "code",
        "colab": {
          "base_uri": "https://localhost:8080/",
          "height": 295
        },
        "outputId": "8173e5ef-bd80-4027-8109-6984756098ba"
      },
      "source": [
        "plt.title(\"Compared validation accuracies\")\n",
        "plt.xlabel(\"Number of labeled examples\")\n",
        "plt.ylabel(\"Accuracy\")\n",
        "for (name, perf) in performances:\n",
        "    plt.plot(perf[:,0], perf[:,1], label=name)\n",
        "plt.legend(loc='lower right')\n",
        "plt.show()"
      ],
      "execution_count": 83,
      "outputs": [
        {
          "output_type": "display_data",
          "data": {
            "image/png": "[encoded data removed]",
            "text/plain": [
              "<Figure size 432x288 with 1 Axes>"
            ]
          },
          "metadata": {
            "tags": []
          }
        }
      ]
    },
    {
      "cell_type": "code",
      "metadata": {
        "id": "VRRhAt12bd7K",
        "colab_type": "code",
        "colab": {
          "base_uri": "https://localhost:8080/",
          "height": 295
        },
        "outputId": "d245b20e-a34f-4127-b6ef-c638b4a404bd"
      },
      "source": [
        "plt.title(\"Compared validation losses\")\n",
        "plt.xlabel(\"Number of labeled examples\")\n",
        "plt.ylabel(\"Loss\")\n",
        "for (name, perf) in performances:\n",
        "    plt.plot(perf[:,0], perf[:,2], label=name)\n",
        "plt.legend(loc='upper right')\n",
        "plt.show()"
      ],
      "execution_count": 84,
      "outputs": [
        {
          "output_type": "display_data",
          "data": {
            "image/png": "[encoded data removed]",
            "text/plain": [
              "<Figure size 432x288 with 1 Axes>"
            ]
          },
          "metadata": {
            "tags": []
          }
        }
      ]
    },
    {
      "cell_type": "markdown",
      "metadata": {
        "id": "epUycAplbd7O",
        "colab_type": "text"
      },
      "source": [
        "The provided code only implement the \"random\" strategy, which chooses examples at random to label them. Your task is to compare it to other, more guided strategies. For example:\n",
        "\n",
        "- a strategy that would label in priority the examples for which the classifier is the most uncertain, as measured by the entropy of its output\n",
        "- a strategy that would label in priority the examples that appear to be near the frontier between the classes: examples for which the highest and second-highest prediction values of the classifier are close to each other.\n",
        "\n",
        "You can also try to use other relevant decision criterion for choosing which examples to label, and implement them as new strategies. It is also possible to combine strategies together, in order to combine the strong points of each of them."
      ]
    },
    {
      "cell_type": "markdown",
      "metadata": {
        "id": "0m_DWpB-bd7O",
        "colab_type": "text"
      },
      "source": [
        "**Some advice:**\n",
        "\n",
        "Keep in mind that your goal is to reach the best possible validation accuracy with as little labelled training examples as possible. As such, don't forget to try and change the number of initial examples for labelling, as well as the number of examples your strategy will request for labelling at each round.\n",
        "\n",
        "Also keep in mind that you network will be trained on possibly very small datasets (think of only a few hundred of examples), while the validation set contains 5000 examples. Be careful of the risks of over-fitting, adjust your network structure and the training time (`num_iter`) appropriately.\n",
        "\n",
        "As a baseline, you should be able to reach at least 90% of validation accuracy with less than 500 labelled examples."
      ]
    },
    {
      "cell_type": "markdown",
      "metadata": {
        "id": "lxZu3bixbd7P",
        "colab_type": "text"
      },
      "source": [
        "**When you are done, you're asked to upload this notebook with your model, the different strategies your compared with the graphs generated by the previous code. Your strategies functions should be commented to explain what each strategy does, and which one is your best strategy.**"
      ]
    }
  ]
}